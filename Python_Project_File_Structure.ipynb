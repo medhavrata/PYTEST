{
  "nbformat": 4,
  "nbformat_minor": 0,
  "metadata": {
    "colab": {
      "name": "Python Project File Structure.ipynb",
      "provenance": [],
      "authorship_tag": "ABX9TyMOIbOmkIj7C/LGDBdylKZi",
      "include_colab_link": true
    },
    "kernelspec": {
      "name": "python3",
      "display_name": "Python 3"
    },
    "language_info": {
      "name": "python"
    }
  },
  "cells": [
    {
      "cell_type": "markdown",
      "metadata": {
        "id": "view-in-github",
        "colab_type": "text"
      },
      "source": [
        "<a href=\"https://colab.research.google.com/github/medhavrata/PYTEST/blob/main/Python_Project_File_Structure.ipynb\" target=\"_parent\"><img src=\"https://colab.research.google.com/assets/colab-badge.svg\" alt=\"Open In Colab\"/></a>"
      ]
    },
    {
      "cell_type": "code",
      "metadata": {
        "id": "dcEtQ6HJZQ7b"
      },
      "source": [
        ""
      ],
      "execution_count": null,
      "outputs": []
    },
    {
      "cell_type": "markdown",
      "metadata": {
        "id": "z0RrI7_eZSRs"
      },
      "source": [
        "# Python Project File Structure\n",
        "![image](https://user-images.githubusercontent.com/10562673/139595026-e74a5bba-ffd1-444c-b041-1166583d786b.png)"
      ]
    }
  ]
}